{
 "cells": [
  {
   "cell_type": "code",
   "execution_count": 1,
   "metadata": {},
   "outputs": [
    {
     "data": {
      "text/plain": [
       "(np.float64(-0.3999999999999986), np.float64(1.7818181818181817))"
      ]
     },
     "execution_count": 1,
     "metadata": {},
     "output_type": "execute_result"
    }
   ],
   "source": [
    "# Reexecutando o código após reset\n",
    "\n",
    "import numpy as np\n",
    "\n",
    "# Conjunto de dados fictício (10 pares de pontos)\n",
    "x = np.array([1, 2, 3, 4, 5, 6, 7, 8, 9, 10])\n",
    "y = np.array([2, 3, 5, 7, 8, 10, 11, 14, 16, 18])\n",
    "\n",
    "# Cálculo das médias de x e y\n",
    "x_mean = np.mean(x)\n",
    "y_mean = np.mean(y)\n",
    "\n",
    "# Cálculo de beta1 (coeficiente angular)\n",
    "beta1 = np.sum((x - x_mean) * (y - y_mean)) / np.sum((x - x_mean) ** 2)\n",
    "\n",
    "# Cálculo de beta0 (intercepto)\n",
    "beta0 = y_mean - beta1 * x_mean\n",
    "\n",
    "# Equação da reta de regressão\n",
    "(beta0, beta1)\n"
   ]
  }
 ],
 "metadata": {
  "kernelspec": {
   "display_name": "Python 3",
   "language": "python",
   "name": "python3"
  },
  "language_info": {
   "codemirror_mode": {
    "name": "ipython",
    "version": 3
   },
   "file_extension": ".py",
   "mimetype": "text/x-python",
   "name": "python",
   "nbconvert_exporter": "python",
   "pygments_lexer": "ipython3",
   "version": "3.13.2"
  }
 },
 "nbformat": 4,
 "nbformat_minor": 2
}
